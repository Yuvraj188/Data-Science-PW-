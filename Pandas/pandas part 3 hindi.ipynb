{
 "cells": [
  {
   "cell_type": "code",
   "execution_count": 1,
   "id": "db6aec57-1649-40b6-b556-1818d97caac9",
   "metadata": {},
   "outputs": [],
   "source": [
    "import pandas as pd "
   ]
  },
  {
   "cell_type": "code",
   "execution_count": 2,
   "id": "42408f99-c0e8-4b6f-9f70-de76246ae62d",
   "metadata": {},
   "outputs": [],
   "source": [
    "df= pd.read_csv(\"https://raw.githubusercontent.com/datasciencedojo/datasets/master/titanic.csv\")"
   ]
  },
  {
   "cell_type": "code",
   "execution_count": 3,
   "id": "b32b578e-75f9-479c-8984-e7eabf42cada",
   "metadata": {},
   "outputs": [
    {
     "data": {
      "text/plain": [
       "Index(['PassengerId', 'Survived', 'Pclass', 'Name', 'Sex', 'Age', 'SibSp',\n",
       "       'Parch', 'Ticket', 'Fare', 'Cabin', 'Embarked'],\n",
       "      dtype='object')"
      ]
     },
     "execution_count": 3,
     "metadata": {},
     "output_type": "execute_result"
    }
   ],
   "source": [
    "df.columns"
   ]
  },
  {
   "cell_type": "code",
   "execution_count": 4,
   "id": "4eee517e-0bd8-4902-9f92-fe172919570a",
   "metadata": {},
   "outputs": [],
   "source": [
    "s = df['Name'][0:10]# in series we can see index but in list we cannot see"
   ]
  },
  {
   "cell_type": "code",
   "execution_count": 5,
   "id": "f7f1719a-ad0d-4473-b748-c6e4857113b1",
   "metadata": {},
   "outputs": [
    {
     "data": {
      "text/plain": [
       "0                              Braund, Mr. Owen Harris\n",
       "1    Cumings, Mrs. John Bradley (Florence Briggs Th...\n",
       "2                               Heikkinen, Miss. Laina\n",
       "3         Futrelle, Mrs. Jacques Heath (Lily May Peel)\n",
       "4                             Allen, Mr. William Henry\n",
       "5                                     Moran, Mr. James\n",
       "6                              McCarthy, Mr. Timothy J\n",
       "7                       Palsson, Master. Gosta Leonard\n",
       "8    Johnson, Mrs. Oscar W (Elisabeth Vilhelmina Berg)\n",
       "9                  Nasser, Mrs. Nicholas (Adele Achem)\n",
       "Name: Name, dtype: object"
      ]
     },
     "execution_count": 5,
     "metadata": {},
     "output_type": "execute_result"
    }
   ],
   "source": [
    "s"
   ]
  },
  {
   "cell_type": "code",
   "execution_count": 6,
   "id": "6cd57910-1e54-4006-8fc0-882b21405132",
   "metadata": {},
   "outputs": [
    {
     "data": {
      "text/plain": [
       "10"
      ]
     },
     "execution_count": 6,
     "metadata": {},
     "output_type": "execute_result"
    }
   ],
   "source": [
    "len(s)"
   ]
  },
  {
   "cell_type": "code",
   "execution_count": 7,
   "id": "cfdf0e3a-b14e-45ce-85cc-d681f65fb8e4",
   "metadata": {},
   "outputs": [
    {
     "data": {
      "text/plain": [
       "pandas.core.series.Series"
      ]
     },
     "execution_count": 7,
     "metadata": {},
     "output_type": "execute_result"
    }
   ],
   "source": [
    "type(s)"
   ]
  },
  {
   "cell_type": "code",
   "execution_count": 8,
   "id": "67632f14-cc4b-4e9d-9074-2e30c7b1eadc",
   "metadata": {},
   "outputs": [
    {
     "data": {
      "text/plain": [
       "0                              Braund, Mr. Owen Harris\n",
       "1    Cumings, Mrs. John Bradley (Florence Briggs Th...\n",
       "2                               Heikkinen, Miss. Laina\n",
       "3         Futrelle, Mrs. Jacques Heath (Lily May Peel)\n",
       "4                             Allen, Mr. William Henry\n",
       "5                                     Moran, Mr. James\n",
       "6                              McCarthy, Mr. Timothy J\n",
       "7                       Palsson, Master. Gosta Leonard\n",
       "8    Johnson, Mrs. Oscar W (Elisabeth Vilhelmina Berg)\n",
       "9                  Nasser, Mrs. Nicholas (Adele Achem)\n",
       "Name: Name, dtype: object"
      ]
     },
     "execution_count": 8,
     "metadata": {},
     "output_type": "execute_result"
    }
   ],
   "source": [
    "s"
   ]
  },
  {
   "cell_type": "code",
   "execution_count": 9,
   "id": "e4ba3096-9c31-40f4-be46-6ca4e30745dd",
   "metadata": {},
   "outputs": [],
   "source": [
    "l = ['sudh','b','c','d','e','f','g','h','i','j']"
   ]
  },
  {
   "cell_type": "code",
   "execution_count": 10,
   "id": "3c749a6f-cae3-4234-8b86-f1a70b362802",
   "metadata": {},
   "outputs": [],
   "source": [
    "s1 =pd.Series(list(s),index=l)\n",
    "# list(s): The list() function is applied to s, converting it into a Python list. This step might be necessary if \n",
    "# s is not already a list, as the pd.Series() constructor typically expects an iterable object as its first argument."
   ]
  },
  {
   "cell_type": "code",
   "execution_count": 11,
   "id": "7a6b4e38-2849-4740-82cd-181b6c40f3b5",
   "metadata": {},
   "outputs": [
    {
     "data": {
      "text/plain": [
       "0                              Braund, Mr. Owen Harris\n",
       "1    Cumings, Mrs. John Bradley (Florence Briggs Th...\n",
       "2                               Heikkinen, Miss. Laina\n",
       "3         Futrelle, Mrs. Jacques Heath (Lily May Peel)\n",
       "4                             Allen, Mr. William Henry\n",
       "5                                     Moran, Mr. James\n",
       "6                              McCarthy, Mr. Timothy J\n",
       "7                       Palsson, Master. Gosta Leonard\n",
       "8    Johnson, Mrs. Oscar W (Elisabeth Vilhelmina Berg)\n",
       "9                  Nasser, Mrs. Nicholas (Adele Achem)\n",
       "Name: Name, dtype: object"
      ]
     },
     "execution_count": 11,
     "metadata": {},
     "output_type": "execute_result"
    }
   ],
   "source": [
    "s"
   ]
  },
  {
   "cell_type": "code",
   "execution_count": 12,
   "id": "e5204395-da94-48c6-bb91-8fdec15a93ca",
   "metadata": {},
   "outputs": [
    {
     "data": {
      "text/plain": [
       "sudh                              Braund, Mr. Owen Harris\n",
       "b       Cumings, Mrs. John Bradley (Florence Briggs Th...\n",
       "c                                  Heikkinen, Miss. Laina\n",
       "d            Futrelle, Mrs. Jacques Heath (Lily May Peel)\n",
       "e                                Allen, Mr. William Henry\n",
       "f                                        Moran, Mr. James\n",
       "g                                 McCarthy, Mr. Timothy J\n",
       "h                          Palsson, Master. Gosta Leonard\n",
       "i       Johnson, Mrs. Oscar W (Elisabeth Vilhelmina Berg)\n",
       "j                     Nasser, Mrs. Nicholas (Adele Achem)\n",
       "dtype: object"
      ]
     },
     "execution_count": 12,
     "metadata": {},
     "output_type": "execute_result"
    }
   ],
   "source": [
    "s1"
   ]
  },
  {
   "cell_type": "code",
   "execution_count": 13,
   "id": "9866d92c-57bf-4400-b311-47de81950802",
   "metadata": {},
   "outputs": [
    {
     "data": {
      "text/plain": [
       "'Braund, Mr. Owen Harris'"
      ]
     },
     "execution_count": 13,
     "metadata": {},
     "output_type": "execute_result"
    }
   ],
   "source": [
    "s[0]"
   ]
  },
  {
   "cell_type": "code",
   "execution_count": 38,
   "id": "8a7d81dd-a23b-4419-913f-7b66de60f72f",
   "metadata": {},
   "outputs": [
    {
     "data": {
      "text/plain": [
       "'Braund, Mr. Owen Harris'"
      ]
     },
     "execution_count": 38,
     "metadata": {},
     "output_type": "execute_result"
    }
   ],
   "source": [
    "s1[0]#python maintains an implicit index for the series also from which we can access elements only till we have given a number index in our own index after that default python index will be lost"
   ]
  },
  {
   "cell_type": "code",
   "execution_count": 15,
   "id": "e3bb5724-6070-4977-bd77-3ef9a7224630",
   "metadata": {},
   "outputs": [
    {
     "data": {
      "text/plain": [
       "'Braund, Mr. Owen Harris'"
      ]
     },
     "execution_count": 15,
     "metadata": {},
     "output_type": "execute_result"
    }
   ],
   "source": [
    "s1[\"sudh\"]# can be accessed by the index we have given. "
   ]
  },
  {
   "cell_type": "code",
   "execution_count": 60,
   "id": "64a260c7-bd7e-40c5-a1cb-43cb827d279a",
   "metadata": {},
   "outputs": [
    {
     "name": "stdout",
     "output_type": "stream",
     "text": [
      "sudh                              Braund, Mr. Owen Harris\n",
      "b       Cumings, Mrs. John Bradley (Florence Briggs Th...\n",
      "c                                  Heikkinen, Miss. Laina\n",
      "d            Futrelle, Mrs. Jacques Heath (Lily May Peel)\n",
      "e                                Allen, Mr. William Henry\n",
      "f                                        Moran, Mr. James\n",
      "g                                 McCarthy, Mr. Timothy J\n",
      "h                          Palsson, Master. Gosta Leonard\n",
      "i       Johnson, Mrs. Oscar W (Elisabeth Vilhelmina Berg)\n",
      "j                     Nasser, Mrs. Nicholas (Adele Achem)\n",
      "0                                 Braund, Mr. Owen Harris\n",
      "1       Cumings, Mrs. John Bradley (Florence Briggs Th...\n",
      "2                                  Heikkinen, Miss. Laina\n",
      "3            Futrelle, Mrs. Jacques Heath (Lily May Peel)\n",
      "4                                Allen, Mr. William Henry\n",
      "5                                        Moran, Mr. James\n",
      "6                                 McCarthy, Mr. Timothy J\n",
      "7                          Palsson, Master. Gosta Leonard\n",
      "8       Johnson, Mrs. Oscar W (Elisabeth Vilhelmina Berg)\n",
      "9                     Nasser, Mrs. Nicholas (Adele Achem)\n",
      "dtype: object\n"
     ]
    },
    {
     "name": "stderr",
     "output_type": "stream",
     "text": [
      "C:\\Users\\Yuvraj Singh Rathore\\AppData\\Local\\Temp\\ipykernel_13656\\1406506630.py:1: FutureWarning: The series.append method is deprecated and will be removed from pandas in a future version. Use pandas.concat instead.\n",
      "  s2=s1.append(s)\n"
     ]
    }
   ],
   "source": [
    "s2=s1.append(s)\n",
    "print(s2)"
   ]
  },
  {
   "cell_type": "code",
   "execution_count": 63,
   "id": "91b46a97-4ef2-4b8c-a500-2abe81ff54ca",
   "metadata": {},
   "outputs": [
    {
     "data": {
      "text/plain": [
       "'Braund, Mr. Owen Harris'"
      ]
     },
     "execution_count": 63,
     "metadata": {},
     "output_type": "execute_result"
    }
   ],
   "source": [
    "s2[0]"
   ]
  },
  {
   "cell_type": "code",
   "execution_count": 62,
   "id": "8260fc18-896f-4e28-96a2-8985f96940b5",
   "metadata": {},
   "outputs": [
    {
     "data": {
      "text/plain": [
       "'Braund, Mr. Owen Harris'"
      ]
     },
     "execution_count": 62,
     "metadata": {},
     "output_type": "execute_result"
    }
   ],
   "source": [
    "s[0]"
   ]
  },
  {
   "cell_type": "code",
   "execution_count": 78,
   "id": "2b876426-8a6a-449e-8b39-be30ad806ac6",
   "metadata": {},
   "outputs": [
    {
     "data": {
      "text/plain": [
       "2    3\n",
       "4    4\n",
       "5    5\n",
       "6    6\n",
       "1    6\n",
       "dtype: int64"
      ]
     },
     "execution_count": 78,
     "metadata": {},
     "output_type": "execute_result"
    }
   ],
   "source": [
    "s4 = pd.Series([3,4,5,6,6] , index=[2,4,5,6,1])\n",
    "s4"
   ]
  },
  {
   "cell_type": "code",
   "execution_count": 65,
   "id": "8bc6b87f-f5dd-4440-9214-3da23c9d30a7",
   "metadata": {},
   "outputs": [],
   "source": [
    "s5 = pd.Series([34,345,45,45,454] , index=[9,4,5,6,7])"
   ]
  },
  {
   "cell_type": "code",
   "execution_count": 66,
   "id": "b8765ce0-b423-4acd-b93c-673e3bf074fb",
   "metadata": {},
   "outputs": [
    {
     "name": "stderr",
     "output_type": "stream",
     "text": [
      "C:\\Users\\Yuvraj Singh Rathore\\AppData\\Local\\Temp\\ipykernel_13656\\937876903.py:1: FutureWarning: The series.append method is deprecated and will be removed from pandas in a future version. Use pandas.concat instead.\n",
      "  s6 = s4.append(s5)\n"
     ]
    }
   ],
   "source": [
    "s6 = s4.append(s5)"
   ]
  },
  {
   "cell_type": "code",
   "execution_count": 67,
   "id": "5e6745e8-ea09-484d-a091-dc8b674bd6c6",
   "metadata": {},
   "outputs": [
    {
     "data": {
      "text/plain": [
       "2      3\n",
       "4      4\n",
       "5      5\n",
       "6      6\n",
       "1      6\n",
       "9     34\n",
       "4    345\n",
       "5     45\n",
       "6     45\n",
       "7    454\n",
       "dtype: int64"
      ]
     },
     "execution_count": 67,
     "metadata": {},
     "output_type": "execute_result"
    }
   ],
   "source": [
    "s6"
   ]
  },
  {
   "cell_type": "code",
   "execution_count": 68,
   "id": "969583af-6be6-4b13-800c-763ad27140b9",
   "metadata": {},
   "outputs": [
    {
     "data": {
      "text/plain": [
       "4      4\n",
       "4    345\n",
       "dtype: int64"
      ]
     },
     "execution_count": 68,
     "metadata": {},
     "output_type": "execute_result"
    }
   ],
   "source": [
    "s6[4]"
   ]
  },
  {
   "cell_type": "code",
   "execution_count": 69,
   "id": "01c2247f-c09d-4594-ab98-d8ee34bca944",
   "metadata": {},
   "outputs": [
    {
     "name": "stderr",
     "output_type": "stream",
     "text": [
      "C:\\Users\\Yuvraj Singh Rathore\\AppData\\Local\\Temp\\ipykernel_13656\\2671872114.py:1: FutureWarning: The behavior of `series[i:j]` with an integer-dtype index is deprecated. In a future version, this will be treated as *label-based* indexing, consistent with e.g. `series[i]` lookups. To retain the old behavior, use `series.iloc[i:j]`. To get the future behavior, use `series.loc[i:j]`.\n",
      "  s6[0:5]\n"
     ]
    },
    {
     "data": {
      "text/plain": [
       "2    3\n",
       "4    4\n",
       "5    5\n",
       "6    6\n",
       "1    6\n",
       "dtype: int64"
      ]
     },
     "execution_count": 69,
     "metadata": {},
     "output_type": "execute_result"
    }
   ],
   "source": [
    "s6[0:5]"
   ]
  },
  {
   "cell_type": "code",
   "execution_count": 93,
   "id": "55707b1f-5181-4a4f-bc91-560353db137d",
   "metadata": {},
   "outputs": [
    {
     "data": {
      "text/plain": [
       "2    3\n",
       "4    4\n",
       "5    5\n",
       "6    6\n",
       "1    6\n",
       "dtype: int64"
      ]
     },
     "execution_count": 93,
     "metadata": {},
     "output_type": "execute_result"
    }
   ],
   "source": [
    "s4"
   ]
  },
  {
   "cell_type": "code",
   "execution_count": 94,
   "id": "d0fc6ff3-d230-42b2-a0dd-8021680d6f5e",
   "metadata": {},
   "outputs": [
    {
     "data": {
      "text/plain": [
       "9     34\n",
       "4    345\n",
       "5     45\n",
       "6     45\n",
       "7    454\n",
       "dtype: int64"
      ]
     },
     "execution_count": 94,
     "metadata": {},
     "output_type": "execute_result"
    }
   ],
   "source": [
    "s5"
   ]
  },
  {
   "cell_type": "code",
   "execution_count": 92,
   "id": "63f16068-d76e-4407-bc8d-8d7749b4370e",
   "metadata": {},
   "outputs": [
    {
     "data": {
      "text/plain": [
       "1       NaN\n",
       "2       NaN\n",
       "4    1380.0\n",
       "5     225.0\n",
       "6     270.0\n",
       "7       NaN\n",
       "9       NaN\n",
       "dtype: float64"
      ]
     },
     "execution_count": 92,
     "metadata": {},
     "output_type": "execute_result"
    }
   ],
   "source": [
    "s4*s5#it perform  operations by index as in s5 donot have index 1 so given nan to it."
   ]
  },
  {
   "cell_type": "code",
   "execution_count": 95,
   "id": "ee9647e5-ee6f-4ec8-a8ea-06b53c7ddfee",
   "metadata": {},
   "outputs": [
    {
     "data": {
      "text/plain": [
       "1      NaN\n",
       "2      NaN\n",
       "4    349.0\n",
       "5     50.0\n",
       "6     51.0\n",
       "7      NaN\n",
       "9      NaN\n",
       "dtype: float64"
      ]
     },
     "execution_count": 95,
     "metadata": {},
     "output_type": "execute_result"
    }
   ],
   "source": [
    "s4+s5"
   ]
  },
  {
   "cell_type": "code",
   "execution_count": null,
   "id": "8e92b019-63eb-4be8-b5d8-cf23fe2eb177",
   "metadata": {},
   "outputs": [],
   "source": []
  },
  {
   "cell_type": "code",
   "execution_count": 50,
   "id": "e58b5d39-3f51-49b2-afee-dc7a94e7ff33",
   "metadata": {},
   "outputs": [
    {
     "data": {
      "text/plain": [
       "0    1\n",
       "1    2\n",
       "2    3\n",
       "3    4\n",
       "4    5\n",
       "5    6\n",
       "6    7\n",
       "7    8\n",
       "dtype: int64"
      ]
     },
     "execution_count": 50,
     "metadata": {},
     "output_type": "execute_result"
    }
   ],
   "source": [
    "a=pd.Series([1,2,3,4,5,6,7,8])\n",
    "a"
   ]
  },
  {
   "cell_type": "code",
   "execution_count": 51,
   "id": "52f23ad7-b376-4f61-831b-9b09b0854745",
   "metadata": {},
   "outputs": [
    {
     "data": {
      "text/plain": [
       "1"
      ]
     },
     "execution_count": 51,
     "metadata": {},
     "output_type": "execute_result"
    }
   ],
   "source": [
    "a[0]"
   ]
  },
  {
   "cell_type": "code",
   "execution_count": 56,
   "id": "7eb24c8c-b10c-46de-bcb4-9f91a6a590e1",
   "metadata": {},
   "outputs": [
    {
     "name": "stderr",
     "output_type": "stream",
     "text": [
      "C:\\Users\\Yuvraj Singh Rathore\\AppData\\Local\\Temp\\ipykernel_13656\\187905204.py:3: FutureWarning: The series.append method is deprecated and will be removed from pandas in a future version. Use pandas.concat instead.\n",
      "  b.append(pd.Series('9',index=['i']))\n"
     ]
    },
    {
     "data": {
      "text/plain": [
       "a    1\n",
       "b    2\n",
       "c    3\n",
       "d    4\n",
       "e    5\n",
       "f    6\n",
       "g    7\n",
       "h    8\n",
       "i    9\n",
       "dtype: object"
      ]
     },
     "execution_count": 56,
     "metadata": {},
     "output_type": "execute_result"
    }
   ],
   "source": [
    "k=['a','b','c','d','e','f','g','h']\n",
    "b=pd.Series(list(a),index=k)\n",
    "b.append(pd.Series('9',index=['i']))"
   ]
  },
  {
   "cell_type": "code",
   "execution_count": 87,
   "id": "09facf22-0780-4fff-b498-40aeee6effbf",
   "metadata": {},
   "outputs": [
    {
     "data": {
      "text/plain": [
       "a    45\n",
       "b    34\n",
       "dtype: int64"
      ]
     },
     "execution_count": 87,
     "metadata": {},
     "output_type": "execute_result"
    }
   ],
   "source": [
    "sr=pd.Series([45,34],index=['a','b'])\n",
    "b\n",
    "sr"
   ]
  },
  {
   "cell_type": "code",
   "execution_count": 89,
   "id": "8fb12dd1-6259-4e35-ba23-5104203a4d39",
   "metadata": {},
   "outputs": [
    {
     "name": "stderr",
     "output_type": "stream",
     "text": [
      "C:\\Users\\Yuvraj Singh Rathore\\AppData\\Local\\Temp\\ipykernel_13656\\2792365150.py:1: FutureWarning: The series.append method is deprecated and will be removed from pandas in a future version. Use pandas.concat instead.\n",
      "  g=b.append(sr)\n"
     ]
    }
   ],
   "source": [
    "g=b.append(sr)"
   ]
  },
  {
   "cell_type": "code",
   "execution_count": 90,
   "id": "3f7c06e4-455a-44e1-8e56-68cb73eac833",
   "metadata": {},
   "outputs": [
    {
     "data": {
      "text/plain": [
       "a     1\n",
       "b     2\n",
       "c     3\n",
       "d     4\n",
       "e     5\n",
       "f     6\n",
       "g     7\n",
       "h     8\n",
       "a    45\n",
       "b    34\n",
       "dtype: int64"
      ]
     },
     "execution_count": 90,
     "metadata": {},
     "output_type": "execute_result"
    }
   ],
   "source": [
    "g"
   ]
  },
  {
   "cell_type": "code",
   "execution_count": 91,
   "id": "ea2bc998-0b4e-4bac-a0d7-14766ae2a52a",
   "metadata": {},
   "outputs": [
    {
     "data": {
      "text/plain": [
       "2"
      ]
     },
     "execution_count": 91,
     "metadata": {},
     "output_type": "execute_result"
    }
   ],
   "source": [
    "g[1]"
   ]
  },
  {
   "cell_type": "markdown",
   "id": "551ab43c-bbb8-44be-b381-1b76a2ea1f3f",
   "metadata": {},
   "source": [
    "conclusion==> python makes its default index if we change the index and if in changed index there is only alpha index then python maintains its default index but if any digit index is given in that than python lost its default index and after slicing it takes default indexes."
   ]
  },
  {
   "cell_type": "code",
   "execution_count": null,
   "id": "5c4c5c93-13f8-455d-8724-f01d04a02831",
   "metadata": {},
   "outputs": [],
   "source": []
  }
 ],
 "metadata": {
  "kernelspec": {
   "display_name": "Python 3 (ipykernel)",
   "language": "python",
   "name": "python3"
  },
  "language_info": {
   "codemirror_mode": {
    "name": "ipython",
    "version": 3
   },
   "file_extension": ".py",
   "mimetype": "text/x-python",
   "name": "python",
   "nbconvert_exporter": "python",
   "pygments_lexer": "ipython3",
   "version": "3.11.5"
  }
 },
 "nbformat": 4,
 "nbformat_minor": 5
}
